{
 "cells": [
  {
   "cell_type": "code",
   "execution_count": 7,
   "metadata": {},
   "outputs": [
    {
     "ename": "ModuleNotFoundError",
     "evalue": "No module named 'requests'",
     "output_type": "error",
     "traceback": [
      "\u001b[1;31m---------------------------------------------------------------------------\u001b[0m",
      "\u001b[1;31mModuleNotFoundError\u001b[0m                       Traceback (most recent call last)",
      "\u001b[1;32mc:\\Users\\Bilgisayar\\OneDrive\\Masaüstü\\Flask\\flask_environment\\notebook.ipynb Cell 1'\u001b[0m in \u001b[0;36m<module>\u001b[1;34m\u001b[0m\n\u001b[1;32m----> <a href='vscode-notebook-cell:/c%3A/Users/Bilgisayar/OneDrive/Masa%C3%BCst%C3%BC/Flask/flask_environment/notebook.ipynb#ch0000000?line=0'>1</a>\u001b[0m \u001b[39mimport\u001b[39;00m \u001b[39mrequests\u001b[39;00m \n\u001b[0;32m      <a href='vscode-notebook-cell:/c%3A/Users/Bilgisayar/OneDrive/Masa%C3%BCst%C3%BC/Flask/flask_environment/notebook.ipynb#ch0000000?line=1'>2</a>\u001b[0m url\u001b[39m=\u001b[39m\u001b[39m\"\u001b[39m\u001b[39mhttp://localhost/api\u001b[39m\u001b[39m\"\u001b[39m\n\u001b[0;32m      <a href='vscode-notebook-cell:/c%3A/Users/Bilgisayar/OneDrive/Masa%C3%BCst%C3%BC/Flask/flask_environment/notebook.ipynb#ch0000000?line=2'>3</a>\u001b[0m data \u001b[39m=\u001b[39m {\u001b[39m\"\u001b[39m\u001b[39mTV\u001b[39m\u001b[39m\"\u001b[39m:\u001b[39m230\u001b[39m, \u001b[39m\"\u001b[39m\u001b[39mradio\u001b[39m\u001b[39m\"\u001b[39m:\u001b[39m40\u001b[39m,\u001b[39m\"\u001b[39m\u001b[39mnewspaper\u001b[39m\u001b[39m\"\u001b[39m:\u001b[39m50\u001b[39m}\n",
      "\u001b[1;31mModuleNotFoundError\u001b[0m: No module named 'requests'"
     ]
    }
   ],
   "source": [
    "import requests \n",
    "url=\"http://localhost/api\"\n",
    "data = {\"TV\":230, \"radio\":40,\"newspaper\":50}\n",
    "response = requests.post(url, json=data)\n",
    "print(response.text)"
   ]
  },
  {
   "cell_type": "code",
   "execution_count": null,
   "metadata": {},
   "outputs": [],
   "source": []
  },
  {
   "cell_type": "code",
   "execution_count": null,
   "metadata": {},
   "outputs": [],
   "source": []
  }
 ],
 "metadata": {
  "interpreter": {
   "hash": "0b0ce137b02689b2788965fe872edbdb43318107aa52929a48581963b97b404d"
  },
  "kernelspec": {
   "display_name": "Python 3.9.5 ('flask_environment': venv)",
   "language": "python",
   "name": "python3"
  },
  "language_info": {
   "codemirror_mode": {
    "name": "ipython",
    "version": 3
   },
   "file_extension": ".py",
   "mimetype": "text/x-python",
   "name": "python",
   "nbconvert_exporter": "python",
   "pygments_lexer": "ipython3",
   "version": "3.9.5"
  },
  "orig_nbformat": 4
 },
 "nbformat": 4,
 "nbformat_minor": 2
}
